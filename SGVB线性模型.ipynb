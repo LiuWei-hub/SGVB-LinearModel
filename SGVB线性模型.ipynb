{
 "cells": [
  {
   "cell_type": "code",
   "execution_count": 1,
   "metadata": {},
   "outputs": [],
   "source": [
    "%load_ext lab_black"
   ]
  },
  {
   "cell_type": "code",
   "execution_count": 2,
   "metadata": {},
   "outputs": [],
   "source": [
    "import torch\n",
    "from torch import nn\n",
    "import pyro\n",
    "from pyro.infer import SVI, Trace_ELBO\n",
    "import pyro.distributions as dist\n",
    "import torch.distributions.constraints as constraints\n",
    "from torch.utils.data import TensorDataset, DataLoader\n",
    "import matplotlib.pyplot as plt\n",
    "\n",
    "%matplotlib inline\n",
    "%config InlineBackend.figure_format='retina'"
   ]
  },
  {
   "cell_type": "code",
   "execution_count": 21,
   "metadata": {},
   "outputs": [],
   "source": [
    "# 产生模拟数据\n",
    "p = 3\n",
    "beta = torch.tensor([1.0, -1.0, 2.0, -1]).view(-1, 1)\n",
    "N = 10000\n",
    "X = torch.distributions.Normal(0.0, 2.0).sample([N, p])\n",
    "X = torch.cat([torch.ones([N, 1]), X], axis=1)\n",
    "epi = torch.distributions.Normal(0.0, 1.0).sample([N, 1])\n",
    "Y = X.mm(beta) + epi\n",
    "\n",
    "dataset = TensorDataset(X, Y)\n",
    "batch_size = 200\n",
    "loader = DataLoader(dataset, batch_size=batch_size)"
   ]
  },
  {
   "cell_type": "code",
   "execution_count": 79,
   "metadata": {},
   "outputs": [],
   "source": [
    "class ELBO_B(nn.Module):\n",
    "    def __init__(self):\n",
    "        super(ELBO_B, self).__init__()\n",
    "        self.mu = nn.Parameter(torch.rand([p + 1, 1]))\n",
    "        self.rho = nn.Parameter(torch.rand([p + 1, 1]))\n",
    "\n",
    "    def forward(self, x, y):\n",
    "        sigma = torch.log(1 + torch.exp(self.rho))\n",
    "        mu = self.mu\n",
    "        L = 1\n",
    "        # 产生L个z\n",
    "        normal = torch.distributions.Normal(\n",
    "            torch.zeros_like(mu), torch.ones_like(sigma)\n",
    "        )\n",
    "        epislon = normal.sample()\n",
    "        beta = mu + sigma * epislon\n",
    "\n",
    "        M = len(x)\n",
    "        L_A = 0\n",
    "        p = torch.distributions.Normal(x.mm(beta), 0.1)\n",
    "        D_KL = -1 / 2 * (torch.log(sigma ** 2) + 1 - mu ** 2 - sigma ** 2).sum()\n",
    "        for l in range(L):\n",
    "\n",
    "            L_A = L_A + (p.log_prob(y).sum() - D_KL)\n",
    "        L_M = L_A / L\n",
    "        return L_M * M / N"
   ]
  },
  {
   "cell_type": "code",
   "execution_count": 80,
   "metadata": {},
   "outputs": [
    {
     "data": {
      "text/plain": [
       "torch.Size([])"
      ]
     },
     "execution_count": 80,
     "metadata": {},
     "output_type": "execute_result"
    }
   ],
   "source": [
    "model = ELBO_B()\n",
    "model(x, y).shape"
   ]
  },
  {
   "cell_type": "code",
   "execution_count": 81,
   "metadata": {},
   "outputs": [],
   "source": [
    "model = ELBO_B()\n",
    "iters = 100\n",
    "optimizer = torch.optim.Adam(model.parameters(), lr=0.1)\n",
    "loss_values = torch.zeros([iters])\n",
    "for i in range(iters):\n",
    "    for data in loader:\n",
    "        x, y = data\n",
    "        optimizer.zero_grad()\n",
    "        loss = -model(x, y)\n",
    "        loss.backward()\n",
    "        optimizer.step()\n",
    "        loss_values[i] = loss"
   ]
  },
  {
   "cell_type": "code",
   "execution_count": 83,
   "metadata": {},
   "outputs": [
    {
     "name": "stdout",
     "output_type": "stream",
     "text": [
      "True beta\n",
      "tensor([[ 1.],\n",
      "        [-1.],\n",
      "        [ 2.],\n",
      "        [-1.]])\n"
     ]
    },
    {
     "data": {
      "text/plain": [
       "tensor([[ 0.9584],\n",
       "        [-0.9993],\n",
       "        [ 2.0094],\n",
       "        [-1.0196]])"
      ]
     },
     "execution_count": 83,
     "metadata": {},
     "output_type": "execute_result"
    }
   ],
   "source": [
    "print(\"True beta\")\n",
    "print(beta)\n",
    "model.state_dict()[\"mu\"]"
   ]
  },
  {
   "cell_type": "code",
   "execution_count": 58,
   "metadata": {},
   "outputs": [
    {
     "data": {
      "text/plain": [
       "tensor([[0.0072],\n",
       "        [0.0057],\n",
       "        [0.0068],\n",
       "        [0.0048]], grad_fn=<LogBackward>)"
      ]
     },
     "execution_count": 58,
     "metadata": {},
     "output_type": "execute_result"
    }
   ],
   "source": [
    "torch.log(1 + torch.exp(model.rho))"
   ]
  },
  {
   "cell_type": "code",
   "execution_count": 11,
   "metadata": {},
   "outputs": [
    {
     "data": {
      "text/plain": [
       "[<matplotlib.lines.Line2D at 0x17698d7b388>]"
      ]
     },
     "execution_count": 11,
     "metadata": {},
     "output_type": "execute_result"
    },
    {
     "data": {
      "image/png": "[encoded data removed]",
      "text/plain": [
       "<Figure size 432x288 with 1 Axes>"
      ]
     },
     "metadata": {
      "image/png": {
       "height": 247,
       "width": 386
      },
      "needs_background": "light"
     },
     "output_type": "display_data"
    }
   ],
   "source": [
    "plt.plot(loss_values.detach().numpy()[100:] / N)"
   ]
  },
  {
   "cell_type": "code",
   "execution_count": 9,
   "metadata": {},
   "outputs": [
    {
     "data": {
      "text/plain": [
       "tensor([[0.5567],\n",
       "        [0.4526],\n",
       "        [0.3597],\n",
       "        [0.2629]])"
      ]
     },
     "execution_count": 9,
     "metadata": {},
     "output_type": "execute_result"
    }
   ],
   "source": [
    "torch.rand([p + 1, 1])"
   ]
  },
  {
   "cell_type": "code",
   "execution_count": null,
   "metadata": {},
   "outputs": [],
   "source": []
  },
  {
   "cell_type": "code",
   "execution_count": 96,
   "metadata": {},
   "outputs": [],
   "source": [
    "class ELBO_B(nn.Module):\n",
    "    def __init__(self):\n",
    "        super(ELBO_B, self).__init__()\n",
    "        self.mu = nn.Parameter(torch.rand([p + 1, 1]))\n",
    "        self.rho = nn.Parameter(torch.rand([p + 1, 1]))\n",
    "\n",
    "    def forward(self, x, y):\n",
    "        sigma = torch.log(1 + torch.exp(self.rho))\n",
    "        mu = self.mu\n",
    "        L = 10\n",
    "        # 产生L个z\n",
    "        normal = torch.distributions.Normal(\n",
    "            torch.zeros_like(mu), torch.ones_like(sigma)\n",
    "        )\n",
    "        epislon = normal.sample()\n",
    "        beta = mu + sigma * epislon\n",
    "        p = torch.distributions.Normal(x.mm(beta), 0.1)\n",
    "        D_KL = -1 / 2 * (torch.log(sigma ** 2) + 1 - mu ** 2 - sigma ** 2).sum()\n",
    "        # 计算ELBO(φ；x(i))\n",
    "        L_B = -D_KL + p.log_prob(y).sum()\n",
    "        # 计算ELBO\n",
    "        #L_M = L_B.mean()\n",
    "        return L_B"
   ]
  },
  {
   "cell_type": "code",
   "execution_count": 97,
   "metadata": {},
   "outputs": [
    {
     "data": {
      "text/plain": [
       "torch.Size([])"
      ]
     },
     "execution_count": 97,
     "metadata": {},
     "output_type": "execute_result"
    }
   ],
   "source": [
    "model = ELBO_B()\n",
    "model(x, y).shape"
   ]
  },
  {
   "cell_type": "code",
   "execution_count": 98,
   "metadata": {},
   "outputs": [
    {
     "name": "stdout",
     "output_type": "stream",
     "text": [
      "True beta\n",
      "tensor([[ 1.],\n",
      "        [-1.],\n",
      "        [ 2.],\n",
      "        [-1.]])\n"
     ]
    },
    {
     "data": {
      "text/plain": [
       "tensor([[ 0.9501],\n",
       "        [-1.0116],\n",
       "        [ 2.0077],\n",
       "        [-1.0240]])"
      ]
     },
     "execution_count": 98,
     "metadata": {},
     "output_type": "execute_result"
    }
   ],
   "source": [
    "model = ELBO_B()\n",
    "iters = 100\n",
    "optimizer = torch.optim.Adam(model.parameters(), lr=0.1)\n",
    "loss_values = torch.zeros([iters])\n",
    "for i in range(iters):\n",
    "    for data in loader:\n",
    "        x, y = data\n",
    "        optimizer.zero_grad()\n",
    "        loss = -model(x, y)\n",
    "        loss.backward()\n",
    "        optimizer.step()\n",
    "        loss_values[i] = loss\n",
    "\n",
    "print(\"True beta\")\n",
    "print(beta)\n",
    "model.state_dict()[\"mu\"]"
   ]
  },
  {
   "cell_type": "code",
   "execution_count": null,
   "metadata": {},
   "outputs": [],
   "source": []
  }
 ],
 "metadata": {
  "kernelspec": {
   "display_name": "Python 3",
   "language": "python",
   "name": "python3"
  },
  "language_info": {
   "codemirror_mode": {
    "name": "ipython",
    "version": 3
   },
   "file_extension": ".py",
   "mimetype": "text/x-python",
   "name": "python",
   "nbconvert_exporter": "python",
   "pygments_lexer": "ipython3",
   "version": "3.7.6"
  }
 },
 "nbformat": 4,
 "nbformat_minor": 4
}
